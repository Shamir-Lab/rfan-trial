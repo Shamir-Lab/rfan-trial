{
 "cells": [
  {
   "cell_type": "code",
   "execution_count": 1,
   "metadata": {
    "tags": []
   },
   "outputs": [],
   "source": [
    "import pandas as pd\n",
    "import numpy as np\n",
    "import statsmodels.api as sm\n",
    "\n",
    "import matplotlib.pyplot as plt\n",
    "import seaborn as sns\n",
    "\n",
    "import warnings\n",
    "warnings.filterwarnings(\"ignore\")"
   ]
  },
  {
   "cell_type": "code",
   "execution_count": 2,
   "metadata": {},
   "outputs": [],
   "source": [
    "all_data = pd.read_csv(\"data/INFLU20-04052020.csv\", sep=';', encoding = \"ISO-8859-1\")\n",
    "OHE = True"
   ]
  },
  {
   "cell_type": "code",
   "execution_count": 3,
   "metadata": {},
   "outputs": [
    {
     "data": {
      "text/plain": [
       "(19940, 138)"
      ]
     },
     "execution_count": 3,
     "metadata": {},
     "output_type": "execute_result"
    }
   ],
   "source": [
    "# COVID-19 patients\n",
    "all_data = all_data[all_data['PCR_SARS2']==1]\n",
    "all_data.shape"
   ]
  },
  {
   "cell_type": "code",
   "execution_count": 4,
   "metadata": {},
   "outputs": [
    {
     "data": {
      "text/plain": [
       "(12221, 138)"
      ]
     },
     "execution_count": 4,
     "metadata": {},
     "output_type": "execute_result"
    }
   ],
   "source": [
    "### Remove patients without ethnicity recorded\n",
    "all_data = all_data[~all_data['CS_RACA'].isnull()]\n",
    "all_data = all_data[all_data['CS_RACA']!=9]\n",
    "all_data.shape"
   ]
  },
  {
   "cell_type": "code",
   "execution_count": 5,
   "metadata": {},
   "outputs": [
    {
     "data": {
      "text/plain": [
       "(11321, 138)"
      ]
     },
     "execution_count": 5,
     "metadata": {},
     "output_type": "execute_result"
    }
   ],
   "source": [
    "### Keep only hospitalized patients\n",
    "hospitalized_patients = all_data[(all_data['HOSPITAL']==1)]\n",
    "hospitalized_patients.shape"
   ]
  },
  {
   "cell_type": "markdown",
   "metadata": {},
   "source": [
    "## Data pre-processing"
   ]
  },
  {
   "cell_type": "code",
   "execution_count": 6,
   "metadata": {},
   "outputs": [],
   "source": [
    "translate = {'NU_IDADE_N': 'Age', 'CS_SEXO': 'Sex', 'EVOLUCAO':'Evolution', 'CS_RACA':'Race',\n",
    "              \n",
    "             # Symptomps\n",
    "             'FEBRE':'Fever', 'TOSSE': 'Cough', 'GARGANTA': 'Sore_throat', \n",
    "             'DISPNEIA':'Shortness_of_breath', 'DESC_RESP':'Respiratory_discomfort', 'SATURACAO':'SPO2',  \n",
    "             'DIARREIA':'Dihareea', 'VOMITO':'Vomitting', \n",
    "             \n",
    "             # Comorbidities\n",
    "             'CARDIOPATI': 'Cardiovascular', 'HEPATICA': 'Liver', 'ASMA': 'Asthma', \n",
    "             'DIABETES': 'Diabetis', 'NEUROLOGIC': 'Neurologic', 'PNEUMOPATI': 'Pulmonary',\n",
    "             'IMUNODEPRE': 'Immunosuppresion', 'RENAL':'Renal', 'OBESIDADE': 'Obesity',\n",
    "            \n",
    "             # Interventions\n",
    "             'TP_ANTIVIR': 'Antiviral_type',\n",
    "             #'OUT_ANTIV': 'Antivirals_other', \n",
    "             # 'SUPORT_VEN': 'Vent_Support',\n",
    "             \n",
    "             # Departments\n",
    "             'DT_INTERNA': 'Hosp_DT',\n",
    "             'DT_ANTIVIR': 'Antiviral_start_DT',\n",
    "             # 'UTI': 'ICU',\n",
    "             'DT_ENTUTI': 'ICU_Admission_DT',\n",
    "             # 'DT_SAIDUTI': 'ICU_Discharge_DT'\n",
    "            }\n",
    "hospitalized_patients = hospitalized_patients.rename(columns=translate)"
   ]
  },
  {
   "cell_type": "code",
   "execution_count": 7,
   "metadata": {},
   "outputs": [],
   "source": [
    "demographics = ['Age', 'Sex', 'Race', 'SG_UF_NOT']\n",
    "\n",
    "symptoms = ['Fever','Cough', 'Sore_throat', 'Shortness_of_breath', 'Respiratory_discomfort', 'SPO2', 'Dihareea', 'Vomitting']\n",
    "\n",
    "comorbidities = ['Cardiovascular',  'Asthma', 'Diabetis', 'Pulmonary', 'Immunosuppresion',\n",
    "                 'Obesity', 'Liver', 'Neurologic', 'Renal']\n",
    "\n",
    "outcome = ['Evolution']\n",
    "\n",
    "races = ['Branca', 'Preta', 'Amarela', 'Parda', 'Indigena']\n",
    "\n",
    "areas = ['Northeast', 'North', 'Southeast', 'Central-West', 'South']\n",
    "\n",
    "event_dates = [\n",
    "               # 'DT_SIN_PRI', 'DT_COLETA', 'DT_PCR', 'DT_ENCERRA'\n",
    "               'Hosp_DT', 'Antiviral_start_DT', 'ICU_Admission_DT', \n",
    "               'DT_EVOLUCA', # Date of discharge or death (outcome)\n",
    "               ]\n",
    "\n",
    "interventions = ['Antiviral_med', 'Vent_invasive', 'Vent_noninvasive', 'FLU_Vaccine']\n",
    "\n",
    "age_groups = ['Age_40', 'Age_40_50', 'Age_50_60', 'Age_60_70', 'Age_70']"
   ]
  },
  {
   "cell_type": "code",
   "execution_count": 8,
   "metadata": {},
   "outputs": [],
   "source": [
    "# Encode race\n",
    "race_encoding = {1.0: 'Branca', 2.0:'Preta', 3.0:'Amarela', 4.0:'Parda', 5.0: 'Indigena'}\n",
    "hospitalized_patients['Race'] = hospitalized_patients['Race'].apply(lambda i: race_encoding[i])\n",
    "\n",
    "if OHE:\n",
    "    for race in races:\n",
    "        hospitalized_patients[race] = (hospitalized_patients['Race'] == race).astype(np.int32)"
   ]
  },
  {
   "cell_type": "code",
   "execution_count": 9,
   "metadata": {},
   "outputs": [],
   "source": [
    "# Encode ages\n",
    "hospitalized_patients['Age_40'] = (hospitalized_patients['Age'] < 40).astype(np.int32)\n",
    "hospitalized_patients['Age_40_50'] = ((hospitalized_patients['Age'] >= 40) &  (hospitalized_patients['Age'] < 50)).astype(np.int32)\n",
    "hospitalized_patients['Age_50_60'] = ((hospitalized_patients['Age'] >= 50) &  (hospitalized_patients['Age'] < 60)).astype(np.int32)\n",
    "hospitalized_patients['Age_60_70'] = ((hospitalized_patients['Age'] >= 60) &  (hospitalized_patients['Age'] < 70)).astype(np.int32)\n",
    "hospitalized_patients['Age_70'] = (hospitalized_patients['Age'] >= 70).astype(np.int32)"
   ]
  },
  {
   "cell_type": "code",
   "execution_count": 10,
   "metadata": {},
   "outputs": [],
   "source": [
    "for event_date in event_dates:\n",
    "    hospitalized_patients[event_date] = pd.to_datetime(hospitalized_patients[event_date], format=\"%d/%m/%Y\")"
   ]
  },
  {
   "cell_type": "code",
   "execution_count": 11,
   "metadata": {},
   "outputs": [],
   "source": [
    "if OHE:\n",
    "    hospitalized_patients['Sex_male'] = (hospitalized_patients['Sex'] == 'M').astype(np.int32)\n",
    "# hospitalized_patients['is_dead'] = (hospitalized_patients['Evolution'] == 2).astype(np.int32)\n",
    "hospitalized_patients['survived'] = (hospitalized_patients['Evolution'] == 1).astype(np.int32)\n",
    "hospitalized_patients['ICU'] = (hospitalized_patients['UTI'] == 1).astype(np.int32)"
   ]
  },
  {
   "cell_type": "code",
   "execution_count": 12,
   "metadata": {},
   "outputs": [],
   "source": [
    "# Comorbidities and symptmps\n",
    "for comorbidity in comorbidities:\n",
    "    # fill in missing values for comorbidities\n",
    "    hospitalized_patients[comorbidity][hospitalized_patients[comorbidity].isnull()] = 0\n",
    "    hospitalized_patients[comorbidity][hospitalized_patients[comorbidity] == 9] = 0\n",
    "    # 2 indicates in the data that the comorbidity is not present\n",
    "    hospitalized_patients[comorbidity][hospitalized_patients[comorbidity] == 2] = 0\n",
    "\n",
    "for symptom in symptoms:\n",
    "    # fill in missing values for symptoms\n",
    "    hospitalized_patients[symptom][hospitalized_patients[symptom].isnull()] = 0\n",
    "    hospitalized_patients[symptom][hospitalized_patients[symptom] == 9] = 0\n",
    "    # 2 indicates in the data that the symptom is not present\n",
    "    hospitalized_patients[symptom][hospitalized_patients[symptom] == 2] = 0"
   ]
  },
  {
   "cell_type": "code",
   "execution_count": 13,
   "metadata": {},
   "outputs": [],
   "source": [
    "# Interventions\n",
    "hospitalized_patients['Antiviral_med'] = (hospitalized_patients.ANTIVIRAL == 1).astype(np.int32)\n",
    "hospitalized_patients['Days_med_to_outcome'] = (hospitalized_patients['DT_EVOLUCA'] - hospitalized_patients['Antiviral_start_DT']).dt.days\n",
    "hospitalized_patients['Days_hosp_to_med'] = (hospitalized_patients['Antiviral_start_DT'] - hospitalized_patients['Hosp_DT']).dt.days\n",
    "\n",
    "hospitalized_patients['Vent_invasive'] = (hospitalized_patients.SUPORT_VEN == 1).astype(np.int32)\n",
    "hospitalized_patients['Vent_noninvasive'] = (hospitalized_patients.SUPORT_VEN == 2).astype(np.int32)\n",
    "\n",
    "hospitalized_patients['FLU_Vaccine'] = (hospitalized_patients.VACINA == 1).astype(np.int32)"
   ]
  },
  {
   "cell_type": "markdown",
   "metadata": {},
   "source": [
    "##### Encode states\n",
    "* AL=Alagoas. AM=Amazonas. AP=Amapá. BA=Bahia. CE=Ceará. DF=Distrito Federal. \n",
    "* ES=Espírito Santo. GO=Goiás. MA=Maranhão. MG=Minas Gerais. MS=Mato Grosso do Sul.\n",
    "* MT=Mato Grosso. PA=Pará. PB=Paraíba. PE=Pernambuco. PI=Piauí. PR=Paraná. RJ=Rio de Janeiro. \n",
    "* RN=Rio Grande do Norte. RO=Rondônia. RR=Roraima. RS=Rio Grande do Sul. SC=Santa Catarina. SE=Sergipe. SP=São Paulo. TO=Tocantins."
   ]
  },
  {
   "cell_type": "code",
   "execution_count": 14,
   "metadata": {},
   "outputs": [],
   "source": [
    "state_to_area = {\n",
    "    # Southeast\n",
    "    'SP': 'Southeast', 'MG': 'Southeast', 'RJ': 'Southeast', 'ES': 'Southeast', \n",
    "    # South\n",
    "    'RS': 'South', 'PR': 'South', 'SC': 'South', \n",
    "    # Central-West\n",
    "    'GO': 'Central-West', 'DF': 'Central-West', 'MS': 'Central-West', 'MT': 'Central-West',\n",
    "    # Northeast\n",
    "    'PE': 'Northeast', 'RN': 'Northeast', 'CE': 'Northeast', 'PB': 'Northeast', 'AL': 'Northeast', 'PI': 'Northeast', 'SE': 'Northeast', 'BA': 'Northeast', 'MA': 'Northeast',\n",
    "    # North\n",
    "    'PA': 'North', 'AM': 'North', 'TO': 'North', 'RO': 'North', 'AP': 'North', 'RR': 'North'\n",
    "}\n",
    "\n",
    "\n",
    "# Map states to areas\n",
    "hospitalized_patients['Area'] = hospitalized_patients['SG_UF_NOT'].map(state_to_area)\n",
    "\n",
    "if OHE:\n",
    "    for area in areas:\n",
    "        hospitalized_patients[area] = (hospitalized_patients['Area'] == area).astype(np.int32)"
   ]
  },
  {
   "cell_type": "code",
   "execution_count": 15,
   "metadata": {},
   "outputs": [],
   "source": [
    "### Compute number of days between hospital admission and outcome\n",
    "hospitalized_patients['Days_hospital_to_outcome'] = (hospitalized_patients['DT_EVOLUCA'] - hospitalized_patients['Hosp_DT']).dt.days\n",
    "\n",
    "hospitalized_patients['Days_hospital_to_icu'] = (hospitalized_patients['ICU_Admission_DT'] - hospitalized_patients['Hosp_DT']).dt.days"
   ]
  },
  {
   "cell_type": "code",
   "execution_count": 16,
   "metadata": {},
   "outputs": [],
   "source": [
    "### Keep patients that have an outcome recorded (indicated by a valid number of days between hospitalization and outcome - discharge or death)\n",
    "patients_with_outcome = hospitalized_patients[~hospitalized_patients['Days_hospital_to_outcome'].isnull()]"
   ]
  },
  {
   "cell_type": "code",
   "execution_count": 17,
   "metadata": {},
   "outputs": [],
   "source": [
    "# Save data to perform Cox regression\n",
    "feature_to_save = [# 'is_dead', \n",
    "                   'survived', 'ICU',\n",
    "                   # 'Days_med_to_outcome', 'Days_hospital_to_icu',\n",
    "                   'Days_hospital_to_outcome',\n",
    "                   'Days_hosp_to_med',\n",
    "                   'Sex_male']  + \\\n",
    "                   demographics + symptoms + comorbidities + races + areas + interventions\n",
    "                   # age_groups +\n",
    "\n",
    "# Drop redundent columns if OHE was applied\n",
    "if OHE:\n",
    "    feature_to_save.remove(\"Race\")\n",
    "    feature_to_save.remove(\"Sex\")\n",
    "    feature_to_save.remove(\"SG_UF_NOT\")"
   ]
  },
  {
   "cell_type": "code",
   "execution_count": 18,
   "metadata": {},
   "outputs": [
    {
     "name": "stdout",
     "output_type": "stream",
     "text": [
      "(6882, 37)\n"
     ]
    },
    {
     "data": {
      "text/plain": [
       "Index(['survived', 'ICU', 'Days_hospital_to_outcome', 'Days_hosp_to_med',\n",
       "       'Sex_male', 'Age', 'Fever', 'Cough', 'Sore_throat',\n",
       "       'Shortness_of_breath', 'Respiratory_discomfort', 'SPO2', 'Dihareea',\n",
       "       'Vomitting', 'Cardiovascular', 'Asthma', 'Diabetis', 'Pulmonary',\n",
       "       'Immunosuppresion', 'Obesity', 'Liver', 'Neurologic', 'Renal', 'Branca',\n",
       "       'Preta', 'Amarela', 'Parda', 'Indigena', 'Northeast', 'North',\n",
       "       'Southeast', 'Central-West', 'South', 'Antiviral_med', 'Vent_invasive',\n",
       "       'Vent_noninvasive', 'FLU_Vaccine'],\n",
       "      dtype='object')"
      ]
     },
     "execution_count": 18,
     "metadata": {},
     "output_type": "execute_result"
    }
   ],
   "source": [
    "df = patients_with_outcome[feature_to_save]\n",
    "\n",
    "print(df.shape)\n",
    "df.columns"
   ]
  },
  {
   "cell_type": "markdown",
   "metadata": {},
   "source": [
    "# Analysis"
   ]
  },
  {
   "cell_type": "code",
   "execution_count": 19,
   "metadata": {},
   "outputs": [],
   "source": [
    "import matplotlib.pyplot as plt\n",
    "import numpy as np\n",
    "\n",
    "def plot_stratified_antiviral_surv(df, groups):\n",
    "    print(\"Total Patients by Group:\")\n",
    "    for group in groups:\n",
    "        total_patients = df[group].sum()\n",
    "        print(f\"{group}: {total_patients}\")\n",
    "\n",
    "    # Calculate survival rates for each ethnic group\n",
    "    survival_rates_ethnic = {}\n",
    "    for group in groups:\n",
    "        group_data = df[df[group] == 1]  # Filter patients belonging to the ethnic group\n",
    "        survival_rates_ethnic[group] = group_data.groupby('Antiviral_med')['survived'].mean() * 100\n",
    "\n",
    "    # Plotting\n",
    "    plt.figure(figsize=(5, 3))\n",
    "    bar_width = 0.35\n",
    "    index = np.arange(len(groups))\n",
    "\n",
    "    for i, group in enumerate(groups):\n",
    "        plt.bar(i, survival_rates_ethnic[group][0], bar_width, label='No Antiviral' if i == 0 else \"\", color='b')\n",
    "        plt.bar(i + bar_width, survival_rates_ethnic[group][1], bar_width, label='Antiviral' if i == 0 else \"\", color='r')\n",
    "\n",
    "    plt.xlabel('Group')\n",
    "    plt.ylabel('Survival Rate (%)')\n",
    "    plt.title('Survival Rate by Group and Antiviral Medication Use')\n",
    "    plt.xticks(index + bar_width / 2, groups)\n",
    "    plt.legend()\n",
    "    plt.tight_layout()\n",
    "    plt.show()"
   ]
  },
  {
   "cell_type": "code",
   "execution_count": 20,
   "metadata": {},
   "outputs": [
    {
     "name": "stdout",
     "output_type": "stream",
     "text": [
      "Overall Survival Rate:\n",
      "Without Antiviral Medication: 52.79%\n",
      "With Antiviral Medication: 52.63%\n"
     ]
    }
   ],
   "source": [
    "# Calculate overall survival rates\n",
    "survival_rates = df.groupby('Antiviral_med')['survived'].mean() * 100\n",
    "\n",
    "print(f\"Overall Survival Rate:\")\n",
    "print(f\"Without Antiviral Medication: {survival_rates[0]:.2f}%\")\n",
    "print(f\"With Antiviral Medication: {survival_rates[1]:.2f}%\")"
   ]
  },
  {
   "cell_type": "code",
   "execution_count": 21,
   "metadata": {},
   "outputs": [
    {
     "name": "stdout",
     "output_type": "stream",
     "text": [
      "Total Patients by Group:\n",
      "Branca: 4061\n",
      "Preta: 443\n",
      "Amarela: 137\n",
      "Parda: 2229\n",
      "Indigena: 12\n"
     ]
    },
    {
     "data": {
      "image/png": "[encoded data removed]",
      "text/plain": [
       "<Figure size 500x300 with 1 Axes>"
      ]
     },
     "metadata": {},
     "output_type": "display_data"
    }
   ],
   "source": [
    "plot_stratified_antiviral_surv(df, groups=['Branca', 'Preta', 'Amarela', 'Parda', 'Indigena'])"
   ]
  },
  {
   "cell_type": "code",
   "execution_count": 22,
   "metadata": {},
   "outputs": [
    {
     "name": "stdout",
     "output_type": "stream",
     "text": [
      "Total Patients by Group:\n",
      "Northeast: 714\n",
      "North: 510\n",
      "Southeast: 4929\n",
      "Central-West: 105\n",
      "South: 624\n"
     ]
    },
    {
     "data": {
      "image/png": "[encoded data removed]",
      "text/plain": [
       "<Figure size 500x300 with 1 Axes>"
      ]
     },
     "metadata": {},
     "output_type": "display_data"
    }
   ],
   "source": [
    "plot_stratified_antiviral_surv(df, groups=['Northeast', 'North', 'Southeast', 'Central-West', 'South'])"
   ]
  },
  {
   "cell_type": "markdown",
   "metadata": {},
   "source": [
    "# Semi-synthetic Simulations"
   ]
  },
  {
   "cell_type": "markdown",
   "metadata": {},
   "source": [
    "### 1. Treatment: Antiviral Medications -> Outcome: Survival"
   ]
  },
  {
   "cell_type": "markdown",
   "metadata": {},
   "source": [
    "#### (A) General Scenario"
   ]
  },
  {
   "cell_type": "code",
   "execution_count": 24,
   "metadata": {},
   "outputs": [
    {
     "name": "stdout",
     "output_type": "stream",
     "text": [
      "N0=3335, N1=2591\n",
      "Total N=5926 (original N=6882)\n",
      "(5926, 31)\n",
      "Index(['Sex_male', 'Age', 'Fever', 'Cough', 'Sore_throat',\n",
      "       'Shortness_of_breath', 'Respiratory_discomfort', 'SPO2', 'Dihareea',\n",
      "       'Vomitting', 'Cardiovascular', 'Asthma', 'Diabetis', 'Pulmonary',\n",
      "       'Immunosuppresion', 'Obesity', 'Liver', 'Neurologic', 'Renal', 'Branca',\n",
      "       'Preta', 'Amarela', 'Parda', 'Indigena', 'Northeast', 'North',\n",
      "       'Southeast', 'Central-West', 'South', 'y0', 'y1'],\n",
      "      dtype='object')\n",
      "Yt Means\n",
      " y0    0.533750\n",
      "y1    0.583868\n",
      "dtype: float64\n"
     ]
    }
   ],
   "source": [
    "from xgboost import XGBClassifier\n",
    "\n",
    "TREATMENT = 'Antiviral_med'\n",
    "OUTCOME = 'survived'\n",
    "\n",
    "sim_df = df.copy()\n",
    "sim_df = sim_df[((sim_df[TREATMENT] == 1) & (sim_df.Days_hosp_to_med < 1)) | (sim_df[TREATMENT] == 0)]\n",
    "sim_df = sim_df[sim_df['Days_hospital_to_outcome'] > 0]\n",
    "\n",
    "sim_df = sim_df.drop(columns=['Vent_invasive', 'Vent_noninvasive', 'FLU_Vaccine', 'ICU', 'Days_hosp_to_med', 'Days_hospital_to_outcome'])\n",
    "\n",
    "# Separate the data into treatment groups\n",
    "df_1 = sim_df[sim_df[TREATMENT] == 1]\n",
    "df_0 = sim_df[sim_df[TREATMENT] == 0]\n",
    "print(f\"N0={len(df_0)}, N1={len(df_1)}\")\n",
    "print(f\"Total N={len(df_0) + len(df_1)} (original N={len(df)})\")\n",
    "\n",
    "# Training XGBoost model for T=1\n",
    "xgb_1 = XGBClassifier(use_label_encoder=False, eval_metric='logloss')\n",
    "xgb_1.fit(df_1.drop(columns=[OUTCOME]), df_1[OUTCOME])\n",
    "\n",
    "# Training XGBoost model for T=0\n",
    "xgb_0 = XGBClassifier(use_label_encoder=False, eval_metric='logloss')\n",
    "xgb_0.fit(df_0.drop(columns=[OUTCOME]), df_0[OUTCOME])\n",
    "\n",
    "# Predict counterfactual outcomes for T=1 and convert to binary indicators\n",
    "y1_proba = xgb_1.predict_proba(df_0.drop(columns=[OUTCOME]))[:, 1]\n",
    "y1 = (y1_proba > 0.5).astype(int)\n",
    "df_0.loc[:, 'y1'] = y1\n",
    "df_0.loc[:, 'y0'] = df_0[OUTCOME]\n",
    "\n",
    "# Predict counterfactual outcomes for T=0 and convert to binary indicators\n",
    "y0_proba = xgb_0.predict_proba(df_1.drop(columns=[OUTCOME]))[:, 1]\n",
    "y0 = (y0_proba > 0.5).astype(int)\n",
    "df_1.loc[:, 'y0'] = y0\n",
    "df_1.loc[:, 'y1'] = df_1[OUTCOME]\n",
    "\n",
    "# Merge the results back into the original dataframe\n",
    "sim_df = pd.concat([df_1, df_0])\n",
    "sim_df = sim_df.drop(columns=['Antiviral_med', OUTCOME])\n",
    "\n",
    "# Save\n",
    "sim_df.to_csv(f\"./parsed/covid_parsed.csv\")\n",
    "print(sim_df.shape)\n",
    "print(sim_df.columns)\n",
    "print(\"Yt Means\\n\", sim_df[['y0', 'y1']].mean())"
   ]
  }
 ],
 "metadata": {
  "kernelspec": {
   "display_name": "Python 3 (ipykernel)",
   "language": "python",
   "name": "python3"
  },
  "language_info": {
   "codemirror_mode": {
    "name": "ipython",
    "version": 3
   },
   "file_extension": ".py",
   "mimetype": "text/x-python",
   "name": "python",
   "nbconvert_exporter": "python",
   "pygments_lexer": "ipython3",
   "version": "3.9.13"
  }
 },
 "nbformat": 4,
 "nbformat_minor": 4
}
